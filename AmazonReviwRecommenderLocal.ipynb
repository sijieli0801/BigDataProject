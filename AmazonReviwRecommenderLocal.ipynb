{
 "cells": [
  {
   "cell_type": "markdown",
   "id": "a4759a44",
   "metadata": {},
   "source": [
    "### Amazon Review Recommender System based on Ratings (Book categories)\n",
    "### dataset: http://jmcauley.ucsd.edu/data/amazon/links.html\n",
    "### Collabrative Filtering & SparkALS method\n",
    "### Sijie Li"
   ]
  },
  {
   "cell_type": "code",
   "execution_count": 1,
   "id": "e8a5303a",
   "metadata": {},
   "outputs": [
    {
     "name": "stdout",
     "output_type": "stream",
     "text": [
      "Requirement already satisfied: pyspark in c:\\users\\sijie li\\anaconda3\\lib\\site-packages (3.2.1)\n",
      "Requirement already satisfied: py4j==0.10.9.3 in c:\\users\\sijie li\\anaconda3\\lib\\site-packages (from pyspark) (0.10.9.3)\n"
     ]
    }
   ],
   "source": [
    "!pip install pyspark"
   ]
  },
  {
   "cell_type": "code",
   "execution_count": 2,
   "id": "f1231339",
   "metadata": {},
   "outputs": [],
   "source": [
    "#import statements\n",
    "from pyspark.sql import SparkSession\n",
    "from pyspark.sql import functions as F\n",
    "import pandas as pd\n",
    "from pyspark.sql.types import StructType,StructField, StringType, IntegerType\n"
   ]
  },
  {
   "cell_type": "code",
   "execution_count": 3,
   "id": "58126306",
   "metadata": {},
   "outputs": [],
   "source": [
    "spark = SparkSession.builder.appName('MovieRecommender').getOrCreate()\n",
    "conf = spark.sparkContext._conf.setAll([('spark.executor.memory', '4g'), ('spark.app.name', 'Spark Updated Conf'), ('spark.executor.cores', '4'), ('spark.cores.max', '4'), ('spark.driver.memory','4g')])"
   ]
  },
  {
   "cell_type": "code",
   "execution_count": 4,
   "id": "6cec6e93",
   "metadata": {},
   "outputs": [],
   "source": [
    "from pyspark.ml.recommendation import ALS\n",
    "from pyspark.ml.evaluation import RegressionEvaluator\n",
    "from pyspark.ml.feature import StringIndexer\n",
    "from pyspark.ml import Pipeline\n"
   ]
  },
  {
   "cell_type": "code",
   "execution_count": 4,
   "id": "65a31b9a",
   "metadata": {},
   "outputs": [],
   "source": [
    "#names = [\"userId\", \"itemId\", \"rating\",\"timestamp\"]\n",
    "\n",
    "names = StructType([ \\\n",
    "    StructField(\"userId\",StringType(),True), \\\n",
    "    StructField(\"itemId\",StringType(),True), \\\n",
    "    StructField(\"rating\",StringType(),True), \\\n",
    "    StructField(\"timestamp\", StringType(), True)])"
   ]
  },
  {
   "cell_type": "code",
   "execution_count": 5,
   "id": "baa62b2c",
   "metadata": {},
   "outputs": [],
   "source": [
    "ratings = spark.read.csv(\"review_book_labledf.csv\", inferSchema=True, header=True)"
   ]
  },
  {
   "cell_type": "code",
   "execution_count": null,
   "id": "6def5b96",
   "metadata": {},
   "outputs": [],
   "source": [
    "ratings = spark.read.csv(\"review_book_labledf.csv\", inferSchema=True, header=True)"
   ]
  },
  {
   "cell_type": "code",
   "execution_count": 6,
   "id": "ad727ccd",
   "metadata": {},
   "outputs": [
    {
     "name": "stdout",
     "output_type": "stream",
     "text": [
      "+---+-------+------+------+\n",
      "|_c0| userId|itemId|rating|\n",
      "+---+-------+------+------+\n",
      "|  0|6913414|     0|   4.0|\n",
      "|  1|3220076|     0|   1.0|\n",
      "|  2|1733392|     1|   4.0|\n",
      "|  3|7818254|     2|   4.0|\n",
      "|  4|6060841|     2|   5.0|\n",
      "+---+-------+------+------+\n",
      "only showing top 5 rows\n",
      "\n"
     ]
    }
   ],
   "source": [
    "ratings.show(5)"
   ]
  },
  {
   "cell_type": "code",
   "execution_count": 7,
   "id": "6511d29b",
   "metadata": {},
   "outputs": [],
   "source": [
    "ratings2 = ratings.select(['userId', 'itemId', 'rating'])"
   ]
  },
  {
   "cell_type": "code",
   "execution_count": 8,
   "id": "9570306c",
   "metadata": {},
   "outputs": [
    {
     "name": "stdout",
     "output_type": "stream",
     "text": [
      "+-------+------+------+\n",
      "| userId|itemId|rating|\n",
      "+-------+------+------+\n",
      "|6913414|     0|   4.0|\n",
      "|3220076|     0|   1.0|\n",
      "|1733392|     1|   4.0|\n",
      "|7818254|     2|   4.0|\n",
      "|6060841|     2|   5.0|\n",
      "+-------+------+------+\n",
      "only showing top 5 rows\n",
      "\n"
     ]
    }
   ],
   "source": [
    "ratings2.show(5)"
   ]
  },
  {
   "cell_type": "code",
   "execution_count": 63,
   "id": "0c2d9016",
   "metadata": {},
   "outputs": [],
   "source": [
    "#ratings3 = pd.read_csv(\"ratings_Books.csv\", names = ['userId', 'itemId', 'rating','timestamp'])"
   ]
  },
  {
   "cell_type": "code",
   "execution_count": 11,
   "id": "7c40e7ea",
   "metadata": {},
   "outputs": [],
   "source": [
    "#string_indexer = StringIndexer(inputCol=\"userId\", outputCol=\"userId_index\")\n",
    "#string_indexer_model = string_indexer.fit(ratings2)\n",
    "#data = string_indexer_model.transform(ratings2)"
   ]
  },
  {
   "cell_type": "code",
   "execution_count": null,
   "id": "c2209f89",
   "metadata": {},
   "outputs": [],
   "source": []
  },
  {
   "cell_type": "code",
   "execution_count": 12,
   "id": "b5784eae",
   "metadata": {},
   "outputs": [],
   "source": [
    "#stringIndexer = StringIndexer(inputCol=\"userId\", outputCol=\"userId_index\")\n",
    "#stringIndexer.setHandleInvalid(\"error\")"
   ]
  },
  {
   "cell_type": "code",
   "execution_count": 48,
   "id": "c8c41514",
   "metadata": {},
   "outputs": [],
   "source": [
    "#indexer = [StringIndexer(inputCol=column, outputCol=column+\"_index\") for column in ['itemId', 'userId']]\n",
    "#pipeline = Pipeline(stages=indexer)\n",
    "#transformed = pipeline.fit(ratings2).transform(ratings2)\n",
    "#transformed.select(['business_id', 'user_id','business_id_index', 'user_id_index'])"
   ]
  },
  {
   "cell_type": "code",
   "execution_count": 9,
   "id": "73ae8f58",
   "metadata": {},
   "outputs": [],
   "source": [
    "training, test = ratings2.randomSplit([0.8,0.2])"
   ]
  },
  {
   "cell_type": "code",
   "execution_count": 10,
   "id": "57fac4e6",
   "metadata": {},
   "outputs": [],
   "source": [
    "# Build the recommendation model using ALS on the training data\n",
    "# Note we set cold start strategy to 'drop' to ensure we don't get NaN evaluation metrics\n",
    "als = ALS(maxIter=10, regParam=0.01, rank = 10, userCol=\"userId\", itemCol=\"itemId\", ratingCol=\"rating\",\n",
    "          coldStartStrategy=\"drop\", nonnegative = True)"
   ]
  },
  {
   "cell_type": "code",
   "execution_count": 11,
   "id": "e20fe913",
   "metadata": {},
   "outputs": [],
   "source": [
    "#fit and predict\n",
    "model = als.fit(training)\n",
    "predictions = model.transform(test)"
   ]
  },
  {
   "cell_type": "code",
   "execution_count": 12,
   "id": "d2967bd3",
   "metadata": {},
   "outputs": [
    {
     "data": {
      "text/plain": [
       "\"blockSize: block size for stacking input data in matrices. Data is stacked within partitions. If block size is more than remaining data in a partition then it is adjusted to the size of this data. (default: 4096)\\ncoldStartStrategy: strategy for dealing with unknown or new users/items at prediction time. This may be useful in cross-validation or production scenarios, for handling user/item ids the model has not seen in the training data. Supported values: 'nan', 'drop'. (default: nan, current: drop)\\nitemCol: column name for item ids. Ids must be within the integer value range. (default: item, current: itemId)\\npredictionCol: prediction column name. (default: prediction)\\nuserCol: column name for user ids. Ids must be within the integer value range. (default: user, current: userId)\""
      ]
     },
     "execution_count": 12,
     "metadata": {},
     "output_type": "execute_result"
    }
   ],
   "source": [
    "#explain parameters of the model\n",
    "model.explainParams()"
   ]
  },
  {
   "cell_type": "code",
   "execution_count": null,
   "id": "ba61d56f",
   "metadata": {},
   "outputs": [],
   "source": [
    "#item factors \n",
    "model.itemFactors.show(10, truncate = False)"
   ]
  },
  {
   "cell_type": "code",
   "execution_count": 19,
   "id": "4e223aef",
   "metadata": {},
   "outputs": [
    {
     "name": "stdout",
     "output_type": "stream",
     "text": [
      "+-------+------+------+----------+\n",
      "|userId |itemId|rating|prediction|\n",
      "+-------+------+------+----------+\n",
      "|8523   |65    |5.0   |1.1309323 |\n",
      "|118222 |91    |1.0   |2.329087  |\n",
      "|1905782|91    |5.0   |5.811846  |\n",
      "|7930535|91    |5.0   |7.0274143 |\n",
      "|4991337|91    |5.0   |6.8522778 |\n",
      "|7643917|91    |5.0   |6.609948  |\n",
      "|6698895|103   |5.0   |11.253433 |\n",
      "|4738494|108   |5.0   |2.136536  |\n",
      "|1922918|148   |5.0   |0.8499359 |\n",
      "|2020240|192   |5.0   |3.2126093 |\n",
      "+-------+------+------+----------+\n",
      "only showing top 10 rows\n",
      "\n"
     ]
    }
   ],
   "source": [
    "predictions.show(10, truncate = False)"
   ]
  },
  {
   "cell_type": "code",
   "execution_count": 22,
   "id": "77d7ae85",
   "metadata": {},
   "outputs": [
    {
     "name": "stdout",
     "output_type": "stream",
     "text": [
      "Root-mean-square error = 2.658003936956168\n"
     ]
    }
   ],
   "source": [
    "#performance metrics\n",
    "evaluator = RegressionEvaluator(metricName='rmse', labelCol='rating')\n",
    "rmse = evaluator.evaluate(predictions)\n",
    "print(\"Root-mean-square error = \" + str(rmse))"
   ]
  },
  {
   "cell_type": "code",
   "execution_count": null,
   "id": "71e11789",
   "metadata": {},
   "outputs": [],
   "source": [
    "# Generate top 10 user recommendations for each movie\n",
    "movieRecs = model.recommendForAllItems(10)\n",
    "\n",
    "movieRecs.show(10, truncate=False)"
   ]
  },
  {
   "cell_type": "code",
   "execution_count": 14,
   "id": "c4d444f5",
   "metadata": {},
   "outputs": [
    {
     "name": "stderr",
     "output_type": "stream",
     "text": [
      "C:\\Users\\Sijie Li\\anaconda3\\lib\\site-packages\\pyspark\\sql\\context.py:125: FutureWarning: Deprecated in 3.0.0. Use SparkSession.builder.getOrCreate() instead.\n",
      "  warnings.warn(\n"
     ]
    },
    {
     "name": "stdout",
     "output_type": "stream",
     "text": [
      "+------+-------------------------------------------+\n",
      "|userId|recommendations                            |\n",
      "+------+-------------------------------------------+\n",
      "|1     |[{40836, 6.119079}, {406113, 6.0965824}]   |\n",
      "|12    |[{973624, 16.178135}, {1123290, 15.787145}]|\n",
      "+------+-------------------------------------------+\n",
      "\n"
     ]
    }
   ],
   "source": [
    "# Generate top 2 items recommendations for a specified set of users\n",
    "users = ratings2.select(als.getUserCol()).distinct().limit(3)\n",
    "userSubsetRecs = model.recommendForUserSubset(users, 2)\n",
    "\n",
    "userSubsetRecs.show(2, truncate=False)"
   ]
  },
  {
   "cell_type": "code",
   "execution_count": 15,
   "id": "a4a18ed1",
   "metadata": {},
   "outputs": [
    {
     "name": "stdout",
     "output_type": "stream",
     "text": [
      "+------+--------------------------------------------+\n",
      "|itemId|recommendations                             |\n",
      "+------+--------------------------------------------+\n",
      "|12    |[{902608, 7.098238}, {3193333, 6.5842714}]  |\n",
      "|6     |[{2956461, 36.892284}, {3061942, 35.400402}]|\n",
      "+------+--------------------------------------------+\n",
      "\n"
     ]
    }
   ],
   "source": [
    "# Generate top 2 user recommendations for a specified set of movies\n",
    "items = ratings2.select(als.getItemCol()).distinct().limit(3)\n",
    "itemSubSetRecs = model.recommendForItemSubset(items, 2)\n",
    "\n",
    "itemSubSetRecs.show(10, truncate=False)"
   ]
  }
 ],
 "metadata": {
  "kernelspec": {
   "display_name": "Python 3",
   "language": "python",
   "name": "python3"
  },
  "language_info": {
   "codemirror_mode": {
    "name": "ipython",
    "version": 3
   },
   "file_extension": ".py",
   "mimetype": "text/x-python",
   "name": "python",
   "nbconvert_exporter": "python",
   "pygments_lexer": "ipython3",
   "version": "3.8.8"
  },
  "toc": {
   "base_numbering": 1,
   "nav_menu": {},
   "number_sections": true,
   "sideBar": true,
   "skip_h1_title": false,
   "title_cell": "Table of Contents",
   "title_sidebar": "Contents",
   "toc_cell": false,
   "toc_position": {},
   "toc_section_display": true,
   "toc_window_display": false
  }
 },
 "nbformat": 4,
 "nbformat_minor": 5
}
